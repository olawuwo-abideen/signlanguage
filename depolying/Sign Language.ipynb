{
 "cells": [
  {
   "cell_type": "code",
   "execution_count": 1,
   "id": "d9102ab9",
   "metadata": {},
   "outputs": [],
   "source": [
    "import tensorflow as tf\n",
    "from tensorflow import keras\n",
    "import numpy as np"
   ]
  },
  {
   "cell_type": "code",
   "execution_count": 2,
   "id": "4db1b04f",
   "metadata": {},
   "outputs": [],
   "source": [
    "model = 'xception_v4_1_44_0.945'"
   ]
  },
  {
   "cell_type": "code",
   "execution_count": 3,
   "id": "9c0a57e8",
   "metadata": {},
   "outputs": [
    {
     "data": {
      "text/plain": [
       "'2.9.1'"
      ]
     },
     "execution_count": 3,
     "metadata": {},
     "output_type": "execute_result"
    }
   ],
   "source": [
    "tf.__version__"
   ]
  },
  {
   "cell_type": "code",
   "execution_count": 4,
   "id": "3074009a",
   "metadata": {},
   "outputs": [],
   "source": [
    "model = keras.models.load_model('./xception_v4_1_44_0.945.h5')"
   ]
  },
  {
   "cell_type": "code",
   "execution_count": 5,
   "id": "363683d2",
   "metadata": {},
   "outputs": [],
   "source": [
    "from tensorflow.keras.preprocessing.image import load_img \n",
    "from tensorflow.keras.applications.xception import preprocess_input"
   ]
  },
  {
   "cell_type": "code",
   "execution_count": 6,
   "id": "b247c237",
   "metadata": {},
   "outputs": [],
   "source": [
    "target_size=(299, 299)"
   ]
  },
  {
   "cell_type": "code",
   "execution_count": 7,
   "id": "a673cc00",
   "metadata": {},
   "outputs": [
    {
     "data": {
      "image/png": "[encoded data removed]",
      "text/plain": [
       "<PIL.Image.Image image mode=RGB size=299x299 at 0x220C94C7400>"
      ]
     },
     "execution_count": 7,
     "metadata": {},
     "output_type": "execute_result"
    }
   ],
   "source": [
    "path = path = \"Sign-Language-Digits-Dataset-master/test/5/IMG_1153.jpg\"\n",
    "img = load_img(path, target_size=(target_size))\n",
    "img"
   ]
  },
  {
   "cell_type": "code",
   "execution_count": 8,
   "id": "f8fc6e90",
   "metadata": {},
   "outputs": [],
   "source": [
    "x = np.array(img)\n",
    "x = np.array([x])\n",
    "\n",
    "x = preprocess_input(x)"
   ]
  },
  {
   "cell_type": "code",
   "execution_count": 9,
   "id": "9efafc2d",
   "metadata": {},
   "outputs": [
    {
     "data": {
      "text/plain": [
       "array([[[[ 0.41176474,  0.41176474,  0.41176474],\n",
       "         [ 0.41176474,  0.41176474,  0.41176474],\n",
       "         [ 0.41176474,  0.41176474,  0.41176474],\n",
       "         ...,\n",
       "         [ 0.27058828,  0.254902  ,  0.13725495],\n",
       "         [ 0.27058828,  0.254902  ,  0.13725495],\n",
       "         [ 0.27058828,  0.254902  ,  0.13725495]],\n",
       "\n",
       "        [[ 0.41176474,  0.41176474,  0.41176474],\n",
       "         [ 0.41176474,  0.41176474,  0.41176474],\n",
       "         [ 0.41176474,  0.41176474,  0.41176474],\n",
       "         ...,\n",
       "         [ 0.27058828,  0.254902  ,  0.13725495],\n",
       "         [ 0.27058828,  0.254902  ,  0.13725495],\n",
       "         [ 0.27058828,  0.254902  ,  0.13725495]],\n",
       "\n",
       "        [[ 0.41176474,  0.41176474,  0.41176474],\n",
       "         [ 0.41176474,  0.41176474,  0.41176474],\n",
       "         [ 0.41176474,  0.41176474,  0.41176474],\n",
       "         ...,\n",
       "         [ 0.27058828,  0.254902  ,  0.13725495],\n",
       "         [ 0.27058828,  0.254902  ,  0.13725495],\n",
       "         [ 0.27058828,  0.254902  ,  0.13725495]],\n",
       "\n",
       "        ...,\n",
       "\n",
       "        [[ 0.11372554,  0.082353  ,  0.09019613],\n",
       "         [ 0.11372554,  0.082353  ,  0.09019613],\n",
       "         [ 0.11372554,  0.082353  ,  0.09019613],\n",
       "         ...,\n",
       "         [-0.04313725, -0.06666666, -0.10588235],\n",
       "         [-0.04313725, -0.06666666, -0.10588235],\n",
       "         [-0.04313725, -0.06666666, -0.10588235]],\n",
       "\n",
       "        [[ 0.11372554,  0.082353  ,  0.09019613],\n",
       "         [ 0.11372554,  0.082353  ,  0.09019613],\n",
       "         [ 0.11372554,  0.082353  ,  0.09019613],\n",
       "         ...,\n",
       "         [-0.04313725, -0.06666666, -0.10588235],\n",
       "         [-0.04313725, -0.06666666, -0.10588235],\n",
       "         [-0.04313725, -0.06666666, -0.10588235]],\n",
       "\n",
       "        [[ 0.11372554,  0.082353  ,  0.09019613],\n",
       "         [ 0.11372554,  0.082353  ,  0.09019613],\n",
       "         [ 0.11372554,  0.082353  ,  0.09019613],\n",
       "         ...,\n",
       "         [-0.04313725, -0.06666666, -0.10588235],\n",
       "         [-0.04313725, -0.06666666, -0.10588235],\n",
       "         [-0.04313725, -0.06666666, -0.10588235]]]], dtype=float32)"
      ]
     },
     "execution_count": 9,
     "metadata": {},
     "output_type": "execute_result"
    }
   ],
   "source": [
    "x"
   ]
  },
  {
   "cell_type": "code",
   "execution_count": 10,
   "id": "b0de4da4",
   "metadata": {},
   "outputs": [
    {
     "data": {
      "text/plain": [
       "(1, 299, 299, 3)"
      ]
     },
     "execution_count": 10,
     "metadata": {},
     "output_type": "execute_result"
    }
   ],
   "source": [
    "x.shape"
   ]
  },
  {
   "cell_type": "code",
   "execution_count": 11,
   "id": "5de35d95",
   "metadata": {},
   "outputs": [
    {
     "name": "stdout",
     "output_type": "stream",
     "text": [
      "1/1 [==============================] - 3s 3s/step\n"
     ]
    }
   ],
   "source": [
    "preds = model.predict(x)"
   ]
  },
  {
   "cell_type": "code",
   "execution_count": 12,
   "id": "37fdfc58",
   "metadata": {},
   "outputs": [
    {
     "data": {
      "text/plain": [
       "array([[ -5.181246  , -23.974049  , -19.958927  ,   0.70100117,\n",
       "          6.33561   ,   9.634418  ,  -5.8617744 ,  -7.5640635 ,\n",
       "         -4.424687  ,   2.0480342 ]], dtype=float32)"
      ]
     },
     "execution_count": 12,
     "metadata": {},
     "output_type": "execute_result"
    }
   ],
   "source": [
    "preds"
   ]
  },
  {
   "cell_type": "code",
   "execution_count": 13,
   "id": "570da32d",
   "metadata": {},
   "outputs": [],
   "source": [
    "labels = {\n",
    "    0: '0',\n",
    "    1: '1',\n",
    "    2: '2',\n",
    "    3: '3',\n",
    "    4: '4',\n",
    "    5: '5',\n",
    "    6: '6',\n",
    "    7: '7',\n",
    "    8: '8',\n",
    "    9: '9'\n",
    "}"
   ]
  },
  {
   "cell_type": "code",
   "execution_count": 14,
   "id": "7efb3f7e",
   "metadata": {},
   "outputs": [
    {
     "data": {
      "text/plain": [
       "5"
      ]
     },
     "execution_count": 14,
     "metadata": {},
     "output_type": "execute_result"
    }
   ],
   "source": [
    "preds[0].argmax()"
   ]
  },
  {
   "cell_type": "code",
   "execution_count": 15,
   "id": "1a82a23f",
   "metadata": {},
   "outputs": [
    {
     "data": {
      "text/plain": [
       "'5'"
      ]
     },
     "execution_count": 15,
     "metadata": {},
     "output_type": "execute_result"
    }
   ],
   "source": [
    "labels[preds[0].argmax()]"
   ]
  },
  {
   "cell_type": "markdown",
   "id": "f7e8cfc1",
   "metadata": {},
   "source": [
    "## Convert Keras to TF-Lite"
   ]
  },
  {
   "cell_type": "code",
   "execution_count": null,
   "id": "6bc0ec17",
   "metadata": {},
   "outputs": [],
   "source": [
    "tf.lite"
   ]
  }
 ],
 "metadata": {
  "kernelspec": {
   "display_name": "Python 3 (ipykernel)",
   "language": "python",
   "name": "python3"
  },
  "language_info": {
   "codemirror_mode": {
    "name": "ipython",
    "version": 3
   },
   "file_extension": ".py",
   "mimetype": "text/x-python",
   "name": "python",
   "nbconvert_exporter": "python",
   "pygments_lexer": "ipython3",
   "version": "3.9.7"
  }
 },
 "nbformat": 4,
 "nbformat_minor": 5
}
